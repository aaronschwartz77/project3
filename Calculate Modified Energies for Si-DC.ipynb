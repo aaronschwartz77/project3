{
 "cells": [
  {
   "cell_type": "code",
   "execution_count": 1,
   "metadata": {},
   "outputs": [
    {
     "name": "stdout",
     "output_type": "stream",
     "text": [
      "Full Formula (Si2)\n",
      "Reduced Formula: Si\n",
      "abc   :   3.866890   3.866890   3.866890\n",
      "angles:  60.000000  60.000000  60.000000\n",
      "Sites (2)\n",
      "  #  SP       a     b     c\n",
      "---  ----  ----  ----  ----\n",
      "  0  Si    0.5   0.5   0.5\n",
      "  1  Si    0.75  0.75  0.75\n"
     ]
    }
   ],
   "source": [
    "from pymatgen import Structure, Lattice, PeriodicSite\n",
    "from pymatgen.symmetry.analyzer import SpacegroupAnalyzer\n",
    "from pymatgen.io.vasp.inputs import Kpoints, Poscar, Potcar, Incar\n",
    "from pymatgen.analysis.elasticity.strain import Deformation\n",
    "Si_DC = Structure.from_file(\"my_part_1/Si_DC/CONTCAR\")\n",
    "print(Si_DC)"
   ]
  },
  {
   "cell_type": "code",
   "execution_count": 2,
   "metadata": {},
   "outputs": [
    {
     "name": "stdout",
     "output_type": "stream",
     "text": [
      "Si2\n",
      "1.0\n",
      "-0.000000 2.734304 2.734304\n",
      "2.734304 0.000000 2.734304\n",
      "2.734304 2.734304 -0.000000\n",
      "Si\n",
      "2\n",
      "direct\n",
      "0.500000 0.500000 0.500000 Si\n",
      "0.750000 0.750000 0.750000 Si\n",
      "\n"
     ]
    }
   ],
   "source": [
    "POSCAR = Poscar(Si_DC)\n",
    "print(POSCAR)"
   ]
  },
  {
   "cell_type": "code",
   "execution_count": 3,
   "metadata": {},
   "outputs": [],
   "source": [
    "my_incar_params = {\"EDIFF\" : 0.0004, \n",
    "                \"EDIFFG\" : -0.01, \n",
    "                \"ENCUT\" : 350, \n",
    "                \"IBRION\" : 2, \n",
    "                \"ISIF\" : 2, \n",
    "                \"ISMEAR\" : 0, \n",
    "                \"SIGMA\" : 0.2, \n",
    "                \"NSW\" : 15,\n",
    "                \"NBANDS\" : 8,\n",
    "                \"LREAL\" : False}"
   ]
  },
  {
   "cell_type": "code",
   "execution_count": 4,
   "metadata": {},
   "outputs": [
    {
     "name": "stdout",
     "output_type": "stream",
     "text": [
      "EDIFF = 0.0004\n",
      "EDIFFG = -0.01\n",
      "ENCUT = 350\n",
      "IBRION = 2\n",
      "ISIF = 2\n",
      "ISMEAR = 0\n",
      "LREAL = False\n",
      "NBANDS = 8\n",
      "NSW = 15\n",
      "SIGMA = 0.2\n",
      "\n"
     ]
    }
   ],
   "source": [
    "INCAR = Incar.from_dict(my_incar_params)\n",
    "print(INCAR)"
   ]
  },
  {
   "cell_type": "code",
   "execution_count": 5,
   "metadata": {},
   "outputs": [
    {
     "name": "stdout",
     "output_type": "stream",
     "text": [
      "Automatic kpoint scheme\n",
      "0\n",
      "Monkhorst\n",
      "8 8 8\n",
      "\n"
     ]
    }
   ],
   "source": [
    "# fill in this tuple with desired grid dimensions (e.g. (a, b, c))\n",
    "grid = (8, 8, 8)\n",
    "# We're using the monkhorst_automatic constructor here to create a grid via the Monkhorst-Pack method.\n",
    "KPOINTS = Kpoints.monkhorst_automatic(kpts=grid)\n",
    "print(KPOINTS)"
   ]
  },
  {
   "cell_type": "code",
   "execution_count": 6,
   "metadata": {},
   "outputs": [],
   "source": [
    "#Define our strain tensor. In this case, e_11 = e_22 = e_33 = 1.10.\n",
    "strain_tensor = ((0.9, 0, 0), (0, 0.9, 0), (0, 0, 0.9))\n",
    "\n",
    "deformation = Deformation(strain_tensor)"
   ]
  },
  {
   "cell_type": "code",
   "execution_count": 7,
   "metadata": {},
   "outputs": [
    {
     "name": "stdout",
     "output_type": "stream",
     "text": [
      "Full Formula (Si2)\n",
      "Reduced Formula: Si\n",
      "abc   :   3.480201   3.480201   3.480201\n",
      "angles:  60.000000  60.000000  60.000000\n",
      "Sites (2)\n",
      "  #  SP       a     b     c\n",
      "---  ----  ----  ----  ----\n",
      "  0  Si    0.5   0.5   0.5\n",
      "  1  Si    0.75  0.75  0.75\n"
     ]
    }
   ],
   "source": [
    "deformed_Si_DC = deformation.apply_to_structure(Si_DC)\n",
    "print(deformed_Si_DC)"
   ]
  },
  {
   "cell_type": "code",
   "execution_count": 8,
   "metadata": {},
   "outputs": [
    {
     "name": "stdout",
     "output_type": "stream",
     "text": [
      "Si2\n",
      "1.0\n",
      "0.000000 2.460874 2.460874\n",
      "2.460874 0.000000 2.460874\n",
      "2.460874 2.460874 0.000000\n",
      "Si\n",
      "2\n",
      "direct\n",
      "0.500000 0.500000 0.500000 Si\n",
      "0.750000 0.750000 0.750000 Si\n",
      "\n"
     ]
    }
   ],
   "source": [
    "POSCAR = Poscar(deformed_Si_DC)\n",
    "print(POSCAR)"
   ]
  },
  {
   "cell_type": "code",
   "execution_count": 9,
   "metadata": {},
   "outputs": [],
   "source": [
    "def write_input_set(POTCAR, POSCAR, INCAR, KPOINTS, directory=\"new_input_set\", use_fake_potcar=True):\n",
    "    \n",
    "    import os\n",
    "    if not os.path.exists(directory):\n",
    "        os.makedirs(directory)\n",
    "\n",
    "    if not use_fake_potcar:\n",
    "        POTCAR.write_file(\"{}/POTCAR\".format(directory))\n",
    "    else:\n",
    "        from shutil import copyfile\n",
    "        # Copy over a fake potcar\n",
    "        copyfile(\"fake_vasp_data/3kvi0H85jC/POTCAR\", \"directory\")\n",
    "    \n",
    "    POSCAR.write_file(\"{}/POSCAR\".format(directory))\n",
    "    INCAR.write_file(\"{}/INCAR\".format(directory))\n",
    "    KPOINTS.write_file(\"{}/KPOINTS\".format(directory))\n",
    "    print(\"Input set written to '{}'\".format(directory))"
   ]
  },
  {
   "cell_type": "code",
   "execution_count": 10,
   "metadata": {},
   "outputs": [
    {
     "name": "stdout",
     "output_type": "stream",
     "text": [
      "Input set written to 'my_part_2/Si_DC'\n"
     ]
    }
   ],
   "source": [
    "my_directory = \"my_part_2/Si_DC\"\n",
    "write_input_set(None, POSCAR, INCAR, KPOINTS, directory=my_directory)"
   ]
  },
  {
   "cell_type": "code",
   "execution_count": 11,
   "metadata": {},
   "outputs": [
    {
     "data": {
      "text/plain": [
       "Si2\n",
       "1.0\n",
       "0.000000 2.460874 2.460874\n",
       "2.460874 0.000000 2.460874\n",
       "2.460874 2.460874 0.000000\n",
       "Si\n",
       "2\n",
       "direct\n",
       "0.500000 0.500000 0.500000 Si\n",
       "0.750000 0.750000 0.750000 Si"
      ]
     },
     "execution_count": 11,
     "metadata": {},
     "output_type": "execute_result"
    }
   ],
   "source": [
    "Poscar.from_file(\"my_part_2/Si_DC/POSCAR\")"
   ]
  },
  {
   "cell_type": "code",
   "execution_count": 12,
   "metadata": {},
   "outputs": [
    {
     "name": "stdout",
     "output_type": "stream",
     "text": [
      "\n",
      "No matching pre-computed data for the input files in directory 'my_part_2/Si_DC' were found:\n",
      "    Matching POSCAR found? False\n",
      "    Matching POSCAR + KPOINTS found? Unknown\n",
      "    Matching POSCAR + KPOINTS + INCAR found? Unknown\n",
      "Please check your input files and try again.\n",
      "\n"
     ]
    }
   ],
   "source": [
    "!python fake_vasp.py \"my_part_2/Si_DC\""
   ]
  },
  {
   "cell_type": "code",
   "execution_count": 13,
   "metadata": {},
   "outputs": [
    {
     "data": {
      "text/plain": [
       "-10.84255253"
      ]
     },
     "execution_count": 13,
     "metadata": {},
     "output_type": "execute_result"
    }
   ],
   "source": [
    "from pymatgen.io.vasp.outputs import Outcar\n",
    "OUTCAR = Outcar(my_directory + \"/OUTCAR\")\n",
    "OUTCAR.final_energy"
   ]
  },
  {
   "cell_type": "code",
   "execution_count": null,
   "metadata": {},
   "outputs": [],
   "source": []
  },
  {
   "cell_type": "code",
   "execution_count": null,
   "metadata": {},
   "outputs": [],
   "source": []
  },
  {
   "cell_type": "code",
   "execution_count": null,
   "metadata": {},
   "outputs": [],
   "source": []
  }
 ],
 "metadata": {
  "kernelspec": {
   "display_name": "Python 3",
   "language": "python",
   "name": "python3"
  },
  "language_info": {
   "codemirror_mode": {
    "name": "ipython",
    "version": 3
   },
   "file_extension": ".py",
   "mimetype": "text/x-python",
   "name": "python",
   "nbconvert_exporter": "python",
   "pygments_lexer": "ipython3",
   "version": "3.7.3"
  }
 },
 "nbformat": 4,
 "nbformat_minor": 2
}

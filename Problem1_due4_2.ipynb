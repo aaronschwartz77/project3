{
 "cells": [
  {
   "cell_type": "code",
   "execution_count": 1,
   "metadata": {},
   "outputs": [],
   "source": [
    "from pymatgen import Structure, Lattice, PeriodicSite\n",
    "from pymatgen.symmetry.analyzer import SpacegroupAnalyzer"
   ]
  },
  {
   "cell_type": "code",
   "execution_count": null,
   "metadata": {},
   "outputs": [],
   "source": []
  },
  {
   "cell_type": "code",
   "execution_count": 2,
   "metadata": {},
   "outputs": [],
   "source": [
    "# Define the lattice parameter, in Å\n",
    "lattice_parameter = 5.43 # in A\n",
    "\n",
    "# Create a cubic lattice with the lattice parameter above\n",
    "cubic_lattice = Lattice.cubic(lattice_parameter)\n",
    "\n",
    "# Create a list of coordinates (i.e. [[x, y, z], [x2, y2, z2], ...])\n",
    "DC_coordinates = [ [0, 0, 0], [0.25, 0.25, 0.25], [0.5, 0.5, 0], [0.5, 0, 0.5], [0, 0.5, 0.5], [0.25, 0.75, 0.75], [0.75, 0.25, 0.75], [0.75, 0.75, 0.25]] \n",
    "\n",
    "DC_species = [\"Si\" for coord in DC_coordinates] # creates the list of Si species used when creating the Structure\n",
    "\n",
    "# Create the structure\n",
    "Si_DC = Structure(cubic_lattice, species=DC_species, coords=DC_coordinates ) # creates the Structure\n",
    "\n",
    "# Simplify the structure to a primitive one\n",
    "Si_DC = SpacegroupAnalyzer(Si_DC).get_primitive_standard_structure()"
   ]
  },
  {
   "cell_type": "code",
   "execution_count": 3,
   "metadata": {
    "scrolled": false
   },
   "outputs": [
    {
     "name": "stdout",
     "output_type": "stream",
     "text": [
      "Full Formula (Si2)\n",
      "Reduced Formula: Si\n",
      "abc   :   3.839590   3.839590   3.839590\n",
      "angles:  60.000000  60.000000  60.000000\n",
      "Sites (2)\n",
      "  #  SP       a     b     c\n",
      "---  ----  ----  ----  ----\n",
      "  0  Si    0     0     0\n",
      "  1  Si    0.25  0.25  0.25\n"
     ]
    }
   ],
   "source": [
    "print(Si_DC)"
   ]
  },
  {
   "cell_type": "code",
   "execution_count": 4,
   "metadata": {},
   "outputs": [],
   "source": [
    "from pymatgen.io.vasp.inputs import Kpoints, Poscar, Potcar, Incar"
   ]
  },
  {
   "cell_type": "code",
   "execution_count": 5,
   "metadata": {},
   "outputs": [
    {
     "name": "stdout",
     "output_type": "stream",
     "text": [
      "Si2\n",
      "1.0\n",
      "0.000000 2.715000 2.715000\n",
      "2.715000 0.000000 2.715000\n",
      "2.715000 2.715000 0.000000\n",
      "Si\n",
      "2\n",
      "direct\n",
      "0.000000 0.000000 0.000000 Si\n",
      "0.250000 0.250000 0.250000 Si\n",
      "\n"
     ]
    }
   ],
   "source": [
    "POSCAR = Poscar(Si_DC)\n",
    "print(POSCAR)"
   ]
  },
  {
   "cell_type": "code",
   "execution_count": 6,
   "metadata": {},
   "outputs": [
    {
     "name": "stdout",
     "output_type": "stream",
     "text": [
      "Automatic kpoint scheme\n",
      "0\n",
      "Monkhorst\n",
      "8 8 8\n",
      "\n",
      "Si2\n",
      "1.0\n",
      "0.000000 2.715000 2.715000\n",
      "2.715000 0.000000 2.715000\n",
      "2.715000 2.715000 0.000000\n",
      "Si\n",
      "2\n",
      "direct\n",
      "0.000000 0.000000 0.000000 Si\n",
      "0.250000 0.250000 0.250000 Si\n",
      "\n"
     ]
    }
   ],
   "source": [
    "# fill in this tuple with desired grid dimensions (e.g. (a, b, c))\n",
    "grid = (8, 8, 8)\n",
    "# We're using the monkhorst_automatic constructor here to create a grid via the Monkhorst-Pack method.\n",
    "KPOINTS = Kpoints.monkhorst_automatic(kpts=grid)\n",
    "print(KPOINTS)\n",
    "print(POSCAR)"
   ]
  },
  {
   "cell_type": "code",
   "execution_count": 7,
   "metadata": {},
   "outputs": [],
   "source": [
    "my_incar_params = {\"EDIFF\" : 0.0004, \n",
    "                \"EDIFFG\" : -0.01, \n",
    "                \"ENCUT\" : 350, \n",
    "                \"IBRION\" : 2, \n",
    "                \"ISIF\" : 3, \n",
    "                \"ISMEAR\" : 0, \n",
    "                \"SIGMA\" : 0.2, \n",
    "                \"NSW\" : 15,\n",
    "                \"NBANDS\" : 8,\n",
    "                \"LREAL\" : False}"
   ]
  },
  {
   "cell_type": "code",
   "execution_count": 8,
   "metadata": {},
   "outputs": [
    {
     "name": "stdout",
     "output_type": "stream",
     "text": [
      "EDIFF = 0.0004\n",
      "EDIFFG = -0.01\n",
      "ENCUT = 350\n",
      "IBRION = 2\n",
      "ISIF = 3\n",
      "ISMEAR = 0\n",
      "LREAL = False\n",
      "NBANDS = 8\n",
      "NSW = 15\n",
      "SIGMA = 0.2\n",
      "\n"
     ]
    }
   ],
   "source": [
    "INCAR = Incar.from_dict(my_incar_params)\n",
    "print(INCAR)"
   ]
  },
  {
   "cell_type": "code",
   "execution_count": 9,
   "metadata": {},
   "outputs": [],
   "source": [
    "def write_input_set(POTCAR, POSCAR, INCAR, KPOINTS, directory=\"new_input_set\", use_fake_potcar=True):\n",
    "    \n",
    "    import os\n",
    "    if not os.path.exists(directory):\n",
    "        os.makedirs(directory)\n",
    "\n",
    "    if not use_fake_potcar:\n",
    "        POTCAR.write_file(\"{}/POTCAR\".format(directory))\n",
    "    else:\n",
    "        from shutil import copyfile\n",
    "        # Copy over a fake potcar\n",
    "        copyfile(\"fake_vasp_data/3kvi0H85jC/POTCAR\", \"directory\")\n",
    "    \n",
    "    POSCAR.write_file(\"{}/POSCAR\".format(directory))\n",
    "    INCAR.write_file(\"{}/INCAR\".format(directory))\n",
    "    KPOINTS.write_file(\"{}/KPOINTS\".format(directory))\n",
    "    print(\"Input set written to '{}'\".format(directory))"
   ]
  },
  {
   "cell_type": "code",
   "execution_count": 10,
   "metadata": {},
   "outputs": [
    {
     "name": "stdout",
     "output_type": "stream",
     "text": [
      "Input set written to 'my_part_1/Si_DC'\n"
     ]
    }
   ],
   "source": [
    "# Directory where you want to save the files. e.g. \"my_part_1/Si_DC\"\n",
    "my_directory = \"my_part_1/Si_DC\"\n",
    "write_input_set(None, POSCAR, INCAR, KPOINTS, directory=my_directory)"
   ]
  },
  {
   "cell_type": "code",
   "execution_count": 11,
   "metadata": {
    "scrolled": false
   },
   "outputs": [
    {
     "name": "stdout",
     "output_type": "stream",
     "text": [
      " running on    8 total cores\n",
      " distrk:  each k-point on    8 cores,    1 groups\n",
      " distr:  one band on    1 cores,    8 groups\n",
      " using from now: INCAR     \n",
      " vasp.5.4.4.18Apr17-6-g9f103f2a35 (build Dec 09 2018 21:25:21) complex          \n",
      "  \n",
      " POSCAR found type information on POSCAR  Si\n",
      " POSCAR found :  1 types and       2 ions\n",
      " scaLAPACK will be used\n",
      "\n",
      " ----------------------------------------------------------------------------- \n",
      "|                                                                             |\n",
      "|           W    W    AA    RRRRR   N    N  II  N    N   GGGG   !!!           |\n",
      "|           W    W   A  A   R    R  NN   N  II  NN   N  G    G  !!!           |\n",
      "|           W    W  A    A  R    R  N N  N  II  N N  N  G       !!!           |\n",
      "|           W WW W  AAAAAA  RRRRR   N  N N  II  N  N N  G  GGG   !            |\n",
      "|           WW  WW  A    A  R   R   N   NN  II  N   NN  G    G                |\n",
      "|           W    W  A    A  R    R  N    N  II  N    N   GGGG   !!!           |\n",
      "|                                                                             |\n",
      "|      For optimal performance we recommend to set                            |\n",
      "|        NCORE= 4 - approx SQRT( number of cores)                             |\n",
      "|      NCORE specifies how many cores store one orbital (NPAR=cpu/NCORE).     |\n",
      "|      This setting can  greatly improve the performance of VASP for DFT.     |\n",
      "|      The default,   NCORE=1            might be grossly inefficient         |\n",
      "|      on modern multi-core architectures or massively parallel machines.     |\n",
      "|      Do your own testing !!!!                                               |\n",
      "|      Unfortunately you need to use the default for GW and RPA calculations. |\n",
      "|      (for HF NCORE is supported but not extensively tested yet)             |\n",
      "|                                                                             |\n",
      " ----------------------------------------------------------------------------- \n",
      "\n",
      " LDA part: xc-table for Pade appr. of Perdew\n",
      " POSCAR, INCAR and KPOINTS ok, starting setup\n",
      " FFT: planning ...\n",
      " WAVECAR not read\n",
      " entering main loop\n",
      "       N       E                     dE             d eps       ncg     rms          rms(c)\n",
      "DAV:   1     0.480437158809E+01    0.48044E+01   -0.27532E+03   960   0.589E+02\n",
      "DAV:   2    -0.108416169152E+02   -0.15646E+02   -0.14968E+02  1520   0.734E+01\n",
      "DAV:   3    -0.110219412833E+02   -0.18032E+00   -0.18032E+00  1200   0.104E+01\n",
      "DAV:   4    -0.110227257151E+02   -0.78443E-03   -0.78443E-03  1584   0.739E-01\n",
      "DAV:   5    -0.110227260099E+02   -0.29485E-06   -0.29448E-06  1208   0.139E-02    0.301E+00\n",
      "DAV:   6    -0.108980021176E+02    0.12472E+00   -0.82593E-02  1168   0.150E+00    0.178E+00\n",
      "DAV:   7    -0.108411395969E+02    0.56863E-01   -0.15158E-01  1224   0.216E+00    0.154E-01\n",
      "DAV:   8    -0.108424603657E+02   -0.13208E-02   -0.41891E-03  1088   0.485E-01    0.250E-02\n",
      "DAV:   9    -0.108425525332E+02   -0.92167E-04   -0.98297E-05   792   0.816E-02\n",
      "   1 F= -.10842553E+02 E0= -.10842529E+02  d E =-.108426E+02\n",
      " curvature:   0.00 expect dE= 0.000E+00 dE for cont linesearch  0.000E+00\n",
      " trial: gam= 0.00000 g(F)=  0.121E-44 g(S)=  0.172E-01 ort = 0.000E+00 (trialstep = 0.100E+01)\n",
      " search vector abs. value=  0.172E-01\n",
      " bond charge predicted\n",
      "       N       E                     dE             d eps       ncg     rms          rms(c)\n",
      "DAV:   1    -0.108519282890E+02   -0.94679E-02   -0.26265E-01  1184   0.287E+00    0.324E-01\n",
      "DAV:   2    -0.108474863462E+02    0.44419E-02   -0.37533E-03  1368   0.408E-01    0.186E-01\n",
      "DAV:   3    -0.108451492520E+02    0.23371E-02   -0.47412E-03  1136   0.347E-01    0.233E-02\n",
      "DAV:   4    -0.108451387207E+02    0.10531E-04   -0.53923E-05   568   0.674E-02\n",
      "   2 F= -.10845139E+02 E0= -.10845126E+02  d E =-.258619E-02\n",
      " trial-energy change:   -0.002586  1 .order   -0.002964   -0.017248    0.011319\n",
      " step:   0.6038(harm=  0.6038)  dis= 0.00000  next Energy=   -10.847759 (dE=-0.521E-02)\n",
      " bond charge predicted\n",
      "       N       E                     dE             d eps       ncg     rms          rms(c)\n",
      "DAV:   1    -0.108485627431E+02   -0.34135E-02   -0.42262E-02  1160   0.116E+00    0.131E-01\n",
      "DAV:   2    -0.108478550035E+02    0.70774E-03   -0.59371E-04  1296   0.162E-01    0.750E-02\n",
      "DAV:   3    -0.108474908571E+02    0.36415E-03   -0.74580E-04   744   0.139E-01\n",
      "   3 F= -.10847491E+02 E0= -.10847475E+02  d E =-.493832E-02\n",
      " curvature:  -0.30 expect dE=-0.429E-05 dE for cont linesearch -0.429E-05\n",
      " trial: gam= 0.00000 g(F)=  0.999E-46 g(S)=  0.142E-04 ort =-0.495E-03 (trialstep = 0.921E+00)\n",
      " search vector abs. value=  0.142E-04\n",
      " reached required accuracy - stopping structural energy minimisation\n",
      " writing wavefunctions\n"
     ]
    }
   ],
   "source": [
    "!python fake_vasp.py \"my_part_1/Si_DC\""
   ]
  },
  {
   "cell_type": "code",
   "execution_count": 12,
   "metadata": {
    "scrolled": true
   },
   "outputs": [
    {
     "data": {
      "text/plain": [
       "-10.84749086"
      ]
     },
     "execution_count": 12,
     "metadata": {},
     "output_type": "execute_result"
    }
   ],
   "source": [
    "from pymatgen.io.vasp.outputs import Outcar\n",
    "OUTCAR = Outcar(my_directory + \"/OUTCAR\")\n",
    "OUTCAR.final_energy"
   ]
  },
  {
   "cell_type": "code",
   "execution_count": 13,
   "metadata": {},
   "outputs": [],
   "source": [
    "## Beta Tin Si Structure \n",
    "# Define the lattice parameters, in Å\n",
    "a = 4.9\n",
    "c = 2.548\n",
    "\n",
    "# Create the tetragonal lattice\n",
    "# Create the tetragonal lattice\n",
    "tetragonal_lattice = Lattice([(a, 0, 0), (0, a, 0), ( a/2, a/2, c/2)])\n",
    "#tetragonal_lattice = Lattice.tetragonal(lattice_parameter_a, lattice_parameter_c)\n",
    "\n",
    "# Create a list of coordinates (i.e. [ [x1, y1, z1], [x2, y2, z2], ... ])\n",
    "BSn_coordinates = [[-0.125, -0.375, 0.25, ], [0.125, 0.375, -0.25]]\n",
    "BSn_species = [\"Si\" for coord in BSn_coordinates] # creates the list of Si species used when creating the Structure\n",
    "\n",
    "Si_BSn = Structure(tetragonal_lattice, species=BSn_species, coords=BSn_coordinates ) # creates the Structure"
   ]
  },
  {
   "cell_type": "code",
   "execution_count": 14,
   "metadata": {},
   "outputs": [
    {
     "name": "stdout",
     "output_type": "stream",
     "text": [
      "Si2\n",
      "1.0\n",
      "4.900000 0.000000 0.000000\n",
      "0.000000 4.900000 0.000000\n",
      "2.450000 2.450000 1.274000\n",
      "Si\n",
      "2\n",
      "direct\n",
      "-0.125000 -0.375000 0.250000 Si\n",
      "0.125000 0.375000 -0.250000 Si\n",
      "\n",
      "Input set written to 'my_part_1/Si_BSn'\n"
     ]
    }
   ],
   "source": [
    "my_directory = \"my_part_1/Si_BSn\"\n",
    "\n",
    "POSCAR = Poscar(Si_BSn)\n",
    "print(POSCAR)\n",
    "write_input_set(None, POSCAR, INCAR, KPOINTS, directory=my_directory)"
   ]
  },
  {
   "cell_type": "code",
   "execution_count": 15,
   "metadata": {},
   "outputs": [
    {
     "name": "stdout",
     "output_type": "stream",
     "text": [
      " running on    8 total cores\n",
      " distrk:  each k-point on    8 cores,    1 groups\n",
      " distr:  one band on    1 cores,    8 groups\n",
      " using from now: INCAR     \n",
      " vasp.5.4.4.18Apr17-6-g9f103f2a35 (build Dec 09 2018 21:25:21) complex          \n",
      "  \n",
      " POSCAR found type information on POSCAR  Si\n",
      " POSCAR found :  1 types and       2 ions\n",
      " scaLAPACK will be used\n",
      "\n",
      " ----------------------------------------------------------------------------- \n",
      "|                                                                             |\n",
      "|           W    W    AA    RRRRR   N    N  II  N    N   GGGG   !!!           |\n",
      "|           W    W   A  A   R    R  NN   N  II  NN   N  G    G  !!!           |\n",
      "|           W    W  A    A  R    R  N N  N  II  N N  N  G       !!!           |\n",
      "|           W WW W  AAAAAA  RRRRR   N  N N  II  N  N N  G  GGG   !            |\n",
      "|           WW  WW  A    A  R   R   N   NN  II  N   NN  G    G                |\n",
      "|           W    W  A    A  R    R  N    N  II  N    N   GGGG   !!!           |\n",
      "|                                                                             |\n",
      "|      For optimal performance we recommend to set                            |\n",
      "|        NCORE= 4 - approx SQRT( number of cores)                             |\n",
      "|      NCORE specifies how many cores store one orbital (NPAR=cpu/NCORE).     |\n",
      "|      This setting can  greatly improve the performance of VASP for DFT.     |\n",
      "|      The default,   NCORE=1            might be grossly inefficient         |\n",
      "|      on modern multi-core architectures or massively parallel machines.     |\n",
      "|      Do your own testing !!!!                                               |\n",
      "|      Unfortunately you need to use the default for GW and RPA calculations. |\n",
      "|      (for HF NCORE is supported but not extensively tested yet)             |\n",
      "|                                                                             |\n",
      " ----------------------------------------------------------------------------- \n",
      "\n",
      " LDA part: xc-table for Pade appr. of Perdew\n",
      " POSCAR, INCAR and KPOINTS ok, starting setup\n",
      " FFT: planning ...\n",
      " WAVECAR not read\n",
      " entering main loop\n",
      "       N       E                     dE             d eps       ncg     rms          rms(c)\n",
      "DAV:   1     0.749558613448E+00    0.74956E+00   -0.28293E+03   896   0.577E+02\n",
      "DAV:   2    -0.100914052697E+02   -0.10841E+02   -0.10457E+02  1328   0.645E+01\n",
      "DAV:   3    -0.102174687783E+02   -0.12606E+00   -0.12461E+00  1232   0.802E+00\n",
      "DAV:   4    -0.102178093946E+02   -0.34062E-03   -0.34051E-03  1360   0.405E-01\n",
      "DAV:   5    -0.102178097572E+02   -0.36265E-06   -0.36235E-06  1224   0.885E-03    0.149E+00\n",
      "DAV:   6    -0.102131194631E+02    0.46903E-02   -0.18469E-03  1136   0.330E-01    0.930E-01\n",
      "DAV:   7    -0.102092534043E+02    0.38661E-02   -0.53863E-03   960   0.576E-01    0.333E-02\n",
      "DAV:   8    -0.102092390519E+02    0.14352E-04   -0.82493E-05   640   0.796E-02\n",
      "   1 F= -.10209239E+02 E0= -.10198274E+02  d E =-.102092E+02\n",
      " curvature:   0.00 expect dE= 0.000E+00 dE for cont linesearch  0.000E+00\n",
      " trial: gam= 0.00000 g(F)=  0.210E-47 g(S)=  0.564E-01 ort = 0.000E+00 (trialstep = 0.100E+01)\n",
      " search vector abs. value=  0.564E-01\n",
      " bond charge predicted\n",
      "       N       E                     dE             d eps       ncg     rms          rms(c)\n",
      "DAV:   1    -0.102778372330E+02   -0.68584E-01   -0.14552E+00  1280   0.695E+00    0.724E-01\n",
      "DAV:   2    -0.102631352026E+02    0.14702E-01   -0.31846E-02  1136   0.141E+00    0.406E-01\n",
      "DAV:   3    -0.102559783690E+02    0.71568E-02   -0.19633E-02  1264   0.769E-01    0.370E-02\n",
      "DAV:   4    -0.102560370512E+02   -0.58682E-04   -0.75657E-04   848   0.228E-01\n",
      "   2 F= -.10256037E+02 E0= -.10245256E+02  d E =-.467980E-01\n",
      " trial-energy change:   -0.046798  1 .order   -0.045842   -0.056361   -0.035322\n",
      " step:   2.6789(harm=  2.6789)  dis= 0.00000  next Energy=   -10.284732 (dE=-0.755E-01)\n",
      " bond charge predicted\n",
      "       N       E                     dE             d eps       ncg     rms          rms(c)\n",
      "DAV:   1    -0.103149566987E+02   -0.58978E-01   -0.37889E+00  1248   0.111E+01    0.114E+00\n",
      "DAV:   2    -0.102781640920E+02    0.36793E-01   -0.82716E-02  1088   0.226E+00    0.646E-01\n",
      "DAV:   3    -0.102596724246E+02    0.18492E-01   -0.50760E-02  1256   0.122E+00    0.627E-02\n",
      "DAV:   4    -0.102598021038E+02   -0.12968E-03   -0.18124E-03   976   0.350E-01\n",
      "   3 F= -.10259802E+02 E0= -.10252949E+02  d E =-.505631E-01\n",
      " curvature:  -1.34 expect dE=-0.308E-01 dE for cont linesearch -0.287E-01\n",
      " ZBRENT: interpolating\n",
      " opt :   1.8460  next Energy=   -10.274286 (dE=-0.650E-01)\n",
      " bond charge predicted\n",
      "       N       E                     dE             d eps       ncg     rms          rms(c)\n",
      "DAV:   1    -0.102862072305E+02   -0.26535E-01   -0.89438E-01  1224   0.537E+00    0.582E-01\n",
      "DAV:   2    -0.102769303052E+02    0.92769E-02   -0.19246E-02  1104   0.109E+00    0.330E-01\n",
      "DAV:   3    -0.102722282847E+02    0.47020E-02   -0.12847E-02  1240   0.620E-01    0.306E-02\n",
      "DAV:   4    -0.102722607498E+02   -0.32465E-04   -0.47074E-04   560   0.181E-01\n",
      "   4 F= -.10272261E+02 E0= -.10262928E+02  d E =-.630217E-01\n",
      " curvature:  -0.67 expect dE=-0.102E-03 dE for cont linesearch -0.510E-04\n",
      " ZBRENT: interpolating\n",
      " opt :   1.8926  next Energy=   -10.272309 (dE=-0.631E-01)\n",
      " bond charge predicted\n",
      "       N       E                     dE             d eps       ncg     rms          rms(c)\n",
      "DAV:   1    -0.102723077292E+02   -0.79444E-04   -0.25539E-03  1200   0.289E-01    0.350E-02\n",
      "DAV:   2    -0.102722841431E+02    0.23586E-04   -0.57895E-05   456   0.619E-02\n",
      "   5 F= -.10272284E+02 E0= -.10263040E+02  d E =-.630451E-01\n",
      " curvature:  -0.64 expect dE=-0.528E-04 dE for cont linesearch -0.160E-05\n",
      " ZBRENT: interpolating\n",
      " opt :   1.9029  next Energy=   -10.272286 (dE=-0.630E-01)\n",
      " bond charge predicted\n",
      "       N       E                     dE             d eps       ncg     rms          rms(c)\n",
      "DAV:   1    -0.102722641515E+02    0.43578E-04   -0.63006E-05   472   0.519E-02    0.671E-03\n",
      "DAV:   2    -0.102722634623E+02    0.68917E-06   -0.35850E-06   448   0.151E-02\n",
      "   6 F= -.10272263E+02 E0= -.10263046E+02  d E =-.630244E-01\n",
      " curvature:  -0.78 expect dE=-0.791E-04 dE for cont linesearch -0.125E-04\n",
      " ZBRENT: interpolating\n",
      " opt :   1.8955  next Energy=   -10.272285 (dE=-0.630E-01)\n",
      " bond charge predicted\n",
      "       N       E                     dE             d eps       ncg     rms          rms(c)\n",
      "DAV:   1    -0.102722715550E+02   -0.74035E-05   -0.83552E-05   448   0.524E-02    0.482E-03\n",
      "DAV:   2    -0.102722710385E+02    0.51647E-06   -0.31637E-06   448   0.149E-02\n",
      "   7 F= -.10272271E+02 E0= -.10263040E+02  d E =-.630320E-01\n",
      " curvature:  -0.03 expect dE=-0.330E-05 dE for cont linesearch -0.581E-06\n",
      " ZBRENT: interpolating\n",
      " opt :   1.8934  next Energy=   -10.272284 (dE=-0.630E-01)\n",
      " bond charge predicted\n",
      "       N       E                     dE             d eps       ncg     rms          rms(c)\n",
      "DAV:   1    -0.102722724442E+02   -0.88920E-06   -0.32337E-06   448   0.108E-02    0.132E-03\n",
      "DAV:   2    -0.102722723974E+02    0.46823E-07   -0.16530E-07   448   0.341E-03\n",
      "   8 F= -.10272272E+02 E0= -.10263037E+02  d E =-.630333E-01\n",
      " curvature:  -0.01 expect dE=-0.802E-06 dE for cont linesearch -0.935E-07\n",
      " ZBRENT: interpolating\n",
      " opt :   1.8929  next Energy=   -10.272284 (dE=-0.630E-01)\n",
      " bond charge predicted\n",
      "       N       E                     dE             d eps       ncg     rms          rms(c)\n",
      "DAV:   1    -0.102722727981E+02   -0.35384E-06   -0.24700E-07   448   0.307E-03    0.391E-04\n",
      "DAV:   2    -0.102722727933E+02    0.47277E-08   -0.16176E-08   448   0.998E-04\n",
      "   9 F= -.10272273E+02 E0= -.10263036E+02  d E =-.630337E-01\n",
      " curvature:  -0.00 expect dE=-0.421E-06 dE for cont linesearch -0.436E-07\n",
      " ZBRENT: interpolating\n",
      " opt :   1.8927  next Energy=   -10.272284 (dE=-0.630E-01)\n",
      " bond charge predicted\n",
      "       N       E                     dE             d eps       ncg     rms          rms(c)\n",
      "DAV:   1    -0.102722729242E+02   -0.12613E-06   -0.28496E-08   448   0.105E-03    0.132E-04\n",
      "DAV:   2    -0.102722729226E+02    0.16244E-08   -0.18692E-09   448   0.339E-04\n",
      "  10 F= -.10272273E+02 E0= -.10263035E+02  d E =-.630339E-01\n",
      " curvature:  -0.00 expect dE=-0.165E-06 dE for cont linesearch -0.165E-07\n",
      " ZBRENT: interpolating\n"
     ]
    },
    {
     "name": "stdout",
     "output_type": "stream",
     "text": [
      " opt :   1.8927  next Energy=   -10.272284 (dE=-0.630E-01)\n",
      " bond charge predicted\n",
      "       N       E                     dE             d eps       ncg     rms          rms(c)\n",
      "DAV:   1    -0.102722729670E+02   -0.42817E-07   -0.33953E-09   448   0.365E-04    0.456E-05\n",
      "DAV:   2    -0.102722729662E+02    0.82616E-09   -0.21686E-10   448   0.116E-04\n",
      "  11 F= -.10272273E+02 E0= -.10263035E+02  d E =-.630339E-01\n",
      " curvature:  -0.00 expect dE=-0.594E-07 dE for cont linesearch -0.587E-08\n",
      " ZBRENT: interpolating\n",
      " opt :   1.8926  next Energy=   -10.272284 (dE=-0.630E-01)\n",
      " bond charge predicted\n",
      "       N       E                     dE             d eps       ncg     rms          rms(c)\n",
      "DAV:   1    -0.102722729820E+02   -0.15020E-07   -0.40977E-10   448   0.127E-04    0.163E-05\n",
      "DAV:   2    -0.102722729825E+02   -0.46850E-09   -0.25165E-11   448   0.394E-05\n",
      "  12 F= -.10272273E+02 E0= -.10263035E+02  d E =-.630339E-01\n",
      " curvature:  -0.00 expect dE=-0.210E-07 dE for cont linesearch -0.207E-08\n",
      " ZBRENT: interpolating\n",
      " opt :   1.8926  next Energy=   -10.272284 (dE=-0.630E-01)\n",
      " bond charge predicted\n",
      "       N       E                     dE             d eps       ncg     rms          rms(c)\n",
      "DAV:   1    -0.102722729882E+02   -0.61977E-08   -0.49546E-11   448   0.441E-05    0.690E-06\n",
      "DAV:   2    -0.102722729868E+02    0.14408E-08   -0.28686E-12   448   0.135E-05\n",
      "  13 F= -.10272273E+02 E0= -.10263035E+02  d E =-.630339E-01\n",
      " curvature:  -0.00 expect dE=-0.737E-08 dE for cont linesearch -0.725E-09\n",
      " ZBRENT: interpolating\n",
      " opt :   1.8926  next Energy=   -10.272284 (dE=-0.630E-01)\n",
      " bond charge predicted\n",
      "       N       E                     dE             d eps       ncg     rms          rms(c)\n",
      "DAV:   1    -0.102722729891E+02   -0.91629E-09   -0.58831E-12   448   0.154E-05    0.459E-06\n",
      "DAV:   2    -0.102722729898E+02   -0.69801E-09   -0.27378E-13   448   0.464E-06\n",
      "  14 F= -.10272273E+02 E0= -.10263035E+02  d E =-.630339E-01\n",
      " curvature:  -0.00 expect dE=-0.258E-08 dE for cont linesearch -0.254E-09\n",
      " ZBRENT: interpolating\n",
      " opt :   1.8926  next Energy=   -10.272284 (dE=-0.630E-01)\n",
      " bond charge predicted\n",
      "       N       E                     dE             d eps       ncg     rms          rms(c)\n",
      "DAV:   1    -0.102722729898E+02   -0.60820E-09   -0.66458E-13   448   0.535E-06    0.423E-06\n",
      "DAV:   2    -0.102722729900E+02   -0.21308E-09    0.92413E-14   448   0.160E-06\n",
      "  15 F= -.10272273E+02 E0= -.10263035E+02  d E =-.630339E-01\n",
      " curvature:  -0.00 expect dE=-0.903E-09 dE for cont linesearch -0.889E-10\n",
      " ZBRENT: interpolating\n",
      " opt :   1.8926  next Energy=   -10.272284 (dE=-0.630E-01)\n",
      " writing wavefunctions\n"
     ]
    }
   ],
   "source": [
    "!python fake_vasp.py \"my_part_1/Si_BSn\""
   ]
  },
  {
   "cell_type": "code",
   "execution_count": 16,
   "metadata": {},
   "outputs": [
    {
     "data": {
      "text/plain": [
       "-10.27227299"
      ]
     },
     "execution_count": 16,
     "metadata": {},
     "output_type": "execute_result"
    }
   ],
   "source": [
    "from pymatgen.io.vasp.outputs import Outcar\n",
    "OUTCAR = Outcar(my_directory + \"/OUTCAR\")\n",
    "OUTCAR.final_energy"
   ]
  },
  {
   "cell_type": "code",
   "execution_count": 17,
   "metadata": {},
   "outputs": [
    {
     "ename": "SyntaxError",
     "evalue": "invalid syntax (<ipython-input-17-bdc95a741fb0>, line 58)",
     "output_type": "error",
     "traceback": [
      "\u001b[1;36m  File \u001b[1;32m\"<ipython-input-17-bdc95a741fb0>\"\u001b[1;36m, line \u001b[1;32m58\u001b[0m\n\u001b[1;33m    plt.show()\u001b[0m\n\u001b[1;37m      ^\u001b[0m\n\u001b[1;31mSyntaxError\u001b[0m\u001b[1;31m:\u001b[0m invalid syntax\n"
     ]
    }
   ],
   "source": [
    "\n",
    "def make_convergence_calc(structure, ENCUT, n_kpoints, output_dir, incar_params, use_fake_potcar=True):\n",
    "    if not use_fake_potcar:\n",
    "        # make POTCAR\n",
    "        POTCAR = Potcar([\"Si\"], functional=\"PBE\")\n",
    "    else:\n",
    "        POTCAR = None\n",
    "    \n",
    "    # make POSCAR from primitive unit cell of structure\n",
    "    POSCAR = Poscar(SpacegroupAnalyzer(structure).get_primitive_standard_structure())\n",
    "    \n",
    "    # make KPOINTS from specified number of kpoints (n,n,n)\n",
    "    grid = (n_kpoints, n_kpoints, n_kpoints)\n",
    "    KPOINTS = Kpoints.monkhorst_automatic(kpts=grid)\n",
    "    \n",
    "    # Use our previous incar settings as starting point\n",
    "    incar_params = dict(incar_params) # make a copy so we don't mutate original dict\n",
    "    incar_params[\"ENCUT\"] = ENCUT\n",
    "    INCAR = Incar.from_dict(incar_params)\n",
    "    \n",
    "    # Write our input set to the directory\n",
    "    write_input_set(POTCAR, POSCAR, INCAR, KPOINTS, directory=output_dir)\n",
    "    \n",
    "    \n",
    "import matplotlib.pyplot as plt\n",
    "from math import log\n",
    "\n",
    "# Helper function to plot convergence test data.\n",
    "def plot_convergence(parameters, energies, xlabel=\"Cutoff Energy, $E_{cut} $ (eV)\", \n",
    "                     ylabel=\"Final Energy (eV/atom)\", title=\"Final Energy vs Cutoff Energy\",\n",
    "                     save_fig=True, filename=\"B-Sn_KPoints_conv.png\"):\n",
    "    \"\"\"Helper function to create convergence plots. \n",
    "    \n",
    "    Arguments:\n",
    "        parameters (list of int/float): independent variable (e.g. ENCUT or KPOINTS)\n",
    "        energies (list of float): resulting final energies\n",
    "        xlabel (str): label for the x-axis\n",
    "        ylabel (str): label for you y-axis\n",
    "        title (str): title for the plot\n",
    "        save_fig (bool): if True, figure is saved as a picture\n",
    "        filename (str): filename of picture\n",
    "        \"\"\"\n",
    "    \n",
    "    # plot the data\n",
    "    plt.plot(parameters, energies, 'rx')\n",
    "    plt.plot(parameters, energies, 'b-')\n",
    "    \n",
    "    # add labels to the plot\n",
    "    plt.xlabel(xlabel)\n",
    "    plt.ylabel(ylabel)\n",
    "    plt.title(title)\n",
    "    \n",
    "    # saves the plot in convergence_test_results/plots/ (WILL OVERWRITE FILES IF FILENAME IS NOT CHANGED)\n",
    "    if save_fig:\n",
    "        plt.savefig(\"convergence_tests/plots/B-Sn_KPoints_conv.png\", bbox_inches='tight'\n",
    "        #plt.savefig(\"convergence_tests/plots/B_Sn_KPoints_conv.png\", bbox_inches='tight')\n",
    "    # show the plot here\n",
    "    plt.show()"
   ]
  },
  {
   "cell_type": "code",
   "execution_count": null,
   "metadata": {},
   "outputs": [],
   "source": [
    "\n",
    "example_ENCUTS = [2, 3, 4, 5, 6, 7, 8, 9, 10, 11, 12]\n",
    "example_energies = [-12.33213554, -10.15439674, -10.34140392, -10.25157338, -10.27502587, -10.29029755, -10.24991292, -10.25142488, -10.24409763, -10.24372507, -10.25303384]\n",
    "\n",
    "\n",
    "# Example usage for plot_convergence\n",
    "plot_convergence(example_ENCUTS, example_energies, \n",
    "                 xlabel=\"Cutoff K point\", \n",
    "                 ylabel=\"Final Energy (eV/atom)\", \n",
    "                 title = \"Final Energy vs Cutoff K Point for B-Sn Si\")"
   ]
  },
  {
   "cell_type": "code",
   "execution_count": null,
   "metadata": {},
   "outputs": [],
   "source": [
    "# list of ENCUT values (e.g. [ENCUT_1, ENCUT_2, ...])\n",
    "Ecs = [150, 200, 250, 300, 350]\n",
    "\n",
    "# writes the ENCUT convergence test input sets to convergence_tests/B_Sn/\n",
    "for E in Ecs:\n",
    "    dirname = \"convergence_tests/DC/E_{}_K_{}\".format(E, 6)\n",
    "    # We're using a (6,6,6) k-points grid for this convergence test\n",
    "    make_convergence_calc(Si_DC, E, 6, output_dir=dirname, incar_params=my_incar_params)"
   ]
  },
  {
   "cell_type": "code",
   "execution_count": null,
   "metadata": {},
   "outputs": [],
   "source": [
    "# ENCUT value determined from last convergence test\n",
    "ENCUT = [250]\n",
    "\n",
    "# list of KPOINTS densities (n, n, n) (e.g. [k1, k2,, k3, ...])\n",
    "Ks = [2, 3, 4, 5, 6, 7, 8, 9, 10, 11, 12]\n",
    "\n",
    "# write the KPOINTS convergence test input sets to convergence_tests/DC/\n",
    "for K in Ks:\n",
    "    dirname = \"convergence_tests/DC/E_{}_K_{}\".format(ENCUT, K)\n",
    "    make_convergence_calc(Si_DC, ENCUT, K, output_dir=dirname, incar_params=my_incar_params)"
   ]
  },
  {
   "cell_type": "code",
   "execution_count": null,
   "metadata": {},
   "outputs": [],
   "source": []
  },
  {
   "cell_type": "code",
   "execution_count": null,
   "metadata": {},
   "outputs": [],
   "source": []
  }
 ],
 "metadata": {
  "kernelspec": {
   "display_name": "Python 3",
   "language": "python",
   "name": "python3"
  },
  "language_info": {
   "codemirror_mode": {
    "name": "ipython",
    "version": 3
   },
   "file_extension": ".py",
   "mimetype": "text/x-python",
   "name": "python",
   "nbconvert_exporter": "python",
   "pygments_lexer": "ipython3",
   "version": "3.7.3"
  }
 },
 "nbformat": 4,
 "nbformat_minor": 2
}
